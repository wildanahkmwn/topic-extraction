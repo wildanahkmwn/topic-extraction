{
 "cells": [
  {
   "cell_type": "markdown",
   "id": "3b6b6408",
   "metadata": {},
   "source": [
    "### Load Data"
   ]
  },
  {
   "cell_type": "markdown",
   "id": "c39c56be",
   "metadata": {},
   "source": [
    "Pertama dilakukan adalah load data dari dataset yang sudah diberikan"
   ]
  },
  {
   "cell_type": "code",
   "execution_count": 1,
   "id": "8091fddd",
   "metadata": {},
   "outputs": [],
   "source": [
    "import pandas as pd\n",
    "import numpy as np\n",
    "seed = 2021"
   ]
  },
  {
   "cell_type": "code",
   "execution_count": 2,
   "id": "c0c6584f",
   "metadata": {},
   "outputs": [
    {
     "data": {
      "text/html": [
       "<div>\n",
       "<style scoped>\n",
       "    .dataframe tbody tr th:only-of-type {\n",
       "        vertical-align: middle;\n",
       "    }\n",
       "\n",
       "    .dataframe tbody tr th {\n",
       "        vertical-align: top;\n",
       "    }\n",
       "\n",
       "    .dataframe thead th {\n",
       "        text-align: right;\n",
       "    }\n",
       "</style>\n",
       "<table border=\"1\" class=\"dataframe\">\n",
       "  <thead>\n",
       "    <tr style=\"text-align: right;\">\n",
       "      <th></th>\n",
       "      <th>article_id</th>\n",
       "      <th>article_topic</th>\n",
       "      <th>article_content</th>\n",
       "    </tr>\n",
       "  </thead>\n",
       "  <tbody>\n",
       "    <tr>\n",
       "      <th>0</th>\n",
       "      <td>93205794</td>\n",
       "      <td>Internasional</td>\n",
       "      <td>Kepolisian Inggris tengah memburu pelaku yang...</td>\n",
       "    </tr>\n",
       "    <tr>\n",
       "      <th>1</th>\n",
       "      <td>93186698</td>\n",
       "      <td>Ekonomi</td>\n",
       "      <td>Seluruh layanan transaksi di jalan tol akan m...</td>\n",
       "    </tr>\n",
       "    <tr>\n",
       "      <th>2</th>\n",
       "      <td>93191463</td>\n",
       "      <td>Teknologi</td>\n",
       "      <td>\\nHari ini, Rabu (23/8), ternyata menjadi har...</td>\n",
       "    </tr>\n",
       "    <tr>\n",
       "      <th>3</th>\n",
       "      <td>93219292</td>\n",
       "      <td>Ekonomi</td>\n",
       "      <td>Saat ini Indonesia hanya memiliki cadangan ba...</td>\n",
       "    </tr>\n",
       "    <tr>\n",
       "      <th>4</th>\n",
       "      <td>343106</td>\n",
       "      <td>Hiburan</td>\n",
       "      <td>Hari ini, Selasa (1/8), pedangdut Ridho Rhoma...</td>\n",
       "    </tr>\n",
       "    <tr>\n",
       "      <th>...</th>\n",
       "      <td>...</td>\n",
       "      <td>...</td>\n",
       "      <td>...</td>\n",
       "    </tr>\n",
       "    <tr>\n",
       "      <th>9995</th>\n",
       "      <td>93221319</td>\n",
       "      <td>Bojonegoro</td>\n",
       "      <td>Reporter : Joel JokoblokBojonegoro.com - Har...</td>\n",
       "    </tr>\n",
       "    <tr>\n",
       "      <th>9996</th>\n",
       "      <td>93203115</td>\n",
       "      <td>Ekonomi</td>\n",
       "      <td>Pada akhir tahun ini, Direktur Jenderal (Dirj...</td>\n",
       "    </tr>\n",
       "    <tr>\n",
       "      <th>9997</th>\n",
       "      <td>93230854</td>\n",
       "      <td>Sepak Bola</td>\n",
       "      <td>Ketika pertama kali datang ke Barcelona pada ...</td>\n",
       "    </tr>\n",
       "    <tr>\n",
       "      <th>9998</th>\n",
       "      <td>93199312</td>\n",
       "      <td>Sepak Bola</td>\n",
       "      <td>Tim Nasional (Timnas) Indonesia U-19 berhasil...</td>\n",
       "    </tr>\n",
       "    <tr>\n",
       "      <th>9999</th>\n",
       "      <td>93194682</td>\n",
       "      <td>Teknologi</td>\n",
       "      <td>Telkom masih melakukan proses perbaikan dan p...</td>\n",
       "    </tr>\n",
       "  </tbody>\n",
       "</table>\n",
       "<p>10000 rows × 3 columns</p>\n",
       "</div>"
      ],
      "text/plain": [
       "      article_id  article_topic  \\\n",
       "0       93205794  Internasional   \n",
       "1       93186698        Ekonomi   \n",
       "2       93191463      Teknologi   \n",
       "3       93219292        Ekonomi   \n",
       "4         343106        Hiburan   \n",
       "...          ...            ...   \n",
       "9995    93221319     Bojonegoro   \n",
       "9996    93203115        Ekonomi   \n",
       "9997    93230854     Sepak Bola   \n",
       "9998    93199312     Sepak Bola   \n",
       "9999    93194682      Teknologi   \n",
       "\n",
       "                                        article_content  \n",
       "0      Kepolisian Inggris tengah memburu pelaku yang...  \n",
       "1      Seluruh layanan transaksi di jalan tol akan m...  \n",
       "2      \\nHari ini, Rabu (23/8), ternyata menjadi har...  \n",
       "3      Saat ini Indonesia hanya memiliki cadangan ba...  \n",
       "4      Hari ini, Selasa (1/8), pedangdut Ridho Rhoma...  \n",
       "...                                                 ...  \n",
       "9995    Reporter : Joel JokoblokBojonegoro.com - Har...  \n",
       "9996   Pada akhir tahun ini, Direktur Jenderal (Dirj...  \n",
       "9997   Ketika pertama kali datang ke Barcelona pada ...  \n",
       "9998   Tim Nasional (Timnas) Indonesia U-19 berhasil...  \n",
       "9999   Telkom masih melakukan proses perbaikan dan p...  \n",
       "\n",
       "[10000 rows x 3 columns]"
      ]
     },
     "execution_count": 2,
     "metadata": {},
     "output_type": "execute_result"
    }
   ],
   "source": [
    "df = pd.read_csv(\"../data/data.csv\")\n",
    "df"
   ]
  },
  {
   "cell_type": "markdown",
   "id": "704ebabc",
   "metadata": {},
   "source": [
    "Dataset terdiri dari 3 kolom yaitu : article_id, article_topic, dan article_content dengan jumlah data sebanyak 10000 data. article_content merupakan data text berita, sedangkan article_topic berisi kategori topik dari berita tersebut."
   ]
  },
  {
   "cell_type": "markdown",
   "id": "8219121e",
   "metadata": {},
   "source": [
    "### EDA"
   ]
  },
  {
   "cell_type": "code",
   "execution_count": 3,
   "id": "ce6c8c58",
   "metadata": {},
   "outputs": [
    {
     "data": {
      "text/plain": [
       "29"
      ]
     },
     "execution_count": 3,
     "metadata": {},
     "output_type": "execute_result"
    }
   ],
   "source": [
    "len(df['article_topic'].unique())"
   ]
  },
  {
   "cell_type": "code",
   "execution_count": 4,
   "id": "88bf6401",
   "metadata": {},
   "outputs": [
    {
     "name": "stdout",
     "output_type": "stream",
     "text": [
      "Ekonomi          1762\n",
      "Haji             1497\n",
      "Hiburan          1466\n",
      "Sepak Bola       1184\n",
      "Internasional     741\n",
      "Lifestyle         572\n",
      "Teknologi         571\n",
      "Sports            435\n",
      "Bojonegoro        260\n",
      "Kesehatan         195\n",
      "Sains             174\n",
      "Otomotif          174\n",
      "Health            131\n",
      "Politik           104\n",
      "Hukum              85\n",
      "Personal           81\n",
      "Travel             76\n",
      "Sejarah            70\n",
      "Pendidikan         70\n",
      "K-Pop              61\n",
      "Obat-obatan        58\n",
      "Horor              50\n",
      "KPK                37\n",
      "Regional           35\n",
      "MotoGP             35\n",
      "Bisnis             25\n",
      "Pilgub Jatim       25\n",
      "Keuangan           14\n",
      "Jakarta            12\n",
      "Name: article_topic, dtype: int64\n"
     ]
    },
    {
     "data": {
      "text/plain": [
       "<AxesSubplot:xlabel='count', ylabel='article_topic'>"
      ]
     },
     "execution_count": 4,
     "metadata": {},
     "output_type": "execute_result"
    },
    {
     "data": {
      "image/png": "[encoded data removed]",
      "text/plain": [
       "<Figure size 432x288 with 1 Axes>"
      ]
     },
     "metadata": {
      "needs_background": "light"
     },
     "output_type": "display_data"
    }
   ],
   "source": [
    "import seaborn as sns\n",
    "\n",
    "print(df['article_topic'].value_counts())\n",
    "sns.countplot(y='article_topic', data=df)"
   ]
  },
  {
   "cell_type": "code",
   "execution_count": 5,
   "id": "2c1b5f25",
   "metadata": {},
   "outputs": [
    {
     "data": {
      "text/plain": [
       "article_id          0\n",
       "article_topic       0\n",
       "article_content    36\n",
       "dtype: int64"
      ]
     },
     "execution_count": 5,
     "metadata": {},
     "output_type": "execute_result"
    }
   ],
   "source": [
    "df.isnull().sum()"
   ]
  },
  {
   "cell_type": "markdown",
   "id": "9789c459",
   "metadata": {},
   "source": [
    "Terdapat 29 topic, jumlah artikel pada masing-masing topik berbeda dan memiliki proporsi yang tidak seimbang (imbalance). Dan terdapat 36 articel_content yang berisi Null, kita akan menghilangkan row dengan Null value tersebut."
   ]
  },
  {
   "cell_type": "code",
   "execution_count": 6,
   "id": "f03c3be8",
   "metadata": {},
   "outputs": [],
   "source": [
    "df.dropna(inplace=True, axis=0)"
   ]
  },
  {
   "cell_type": "code",
   "execution_count": 7,
   "id": "ec1b3f12",
   "metadata": {},
   "outputs": [
    {
     "name": "stdout",
     "output_type": "stream",
     "text": [
      "mean jumlah kata: 353.1245483741469\n",
      "std jumlah kata: 297.02497882217034\n",
      "max jumlah kata: 9921\n"
     ]
    }
   ],
   "source": [
    "# WORD-COUNT\n",
    "df['word_count'] = df['article_content'].apply(lambda x: len(str(x).split()))\n",
    "print('mean jumlah kata:',df['word_count'].mean())\n",
    "print('std jumlah kata:',df['word_count'].std())\n",
    "print('max jumlah kata:',df['word_count'].max())"
   ]
  },
  {
   "cell_type": "code",
   "execution_count": 8,
   "id": "3e2ba7ce",
   "metadata": {},
   "outputs": [
    {
     "data": {
      "text/plain": [
       "count    9964.000000\n",
       "mean      353.124548\n",
       "std       297.024979\n",
       "min         0.000000\n",
       "25%       233.000000\n",
       "50%       303.000000\n",
       "75%       400.000000\n",
       "max      9921.000000\n",
       "Name: word_count, dtype: float64"
      ]
     },
     "execution_count": 8,
     "metadata": {},
     "output_type": "execute_result"
    }
   ],
   "source": [
    "df['word_count'].describe()"
   ]
  },
  {
   "cell_type": "code",
   "execution_count": 9,
   "id": "17eb7eeb",
   "metadata": {},
   "outputs": [
    {
     "data": {
      "text/plain": [
       "<AxesSubplot:xlabel='word_count', ylabel='Count'>"
      ]
     },
     "execution_count": 9,
     "metadata": {},
     "output_type": "execute_result"
    },
    {
     "data": {
      "image/png": "[encoded data removed]",
      "text/plain": [
       "<Figure size 432x288 with 1 Axes>"
      ]
     },
     "metadata": {
      "needs_background": "light"
     },
     "output_type": "display_data"
    }
   ],
   "source": [
    "# PLOTTING WORD-COUNT\n",
    "sns.histplot(x='word_count', data=df, bins=100)"
   ]
  },
  {
   "cell_type": "markdown",
   "id": "3fdad677",
   "metadata": {},
   "source": [
    "Jumlah kata dalam artikel sangat beragam, bahkan ada artikel jumlah kata 0 atau hanya berisi blank space. Oleh karena itu harus kita hilangkan. Kita akan menggunakan median yaitu 303 jumlah kata."
   ]
  },
  {
   "cell_type": "code",
   "execution_count": 10,
   "id": "6788d9d1",
   "metadata": {},
   "outputs": [],
   "source": [
    "df = df.loc[df['word_count']>=200]"
   ]
  },
  {
   "cell_type": "code",
   "execution_count": 11,
   "id": "275bf951",
   "metadata": {},
   "outputs": [],
   "source": [
    "# df = df.loc[df['word_count']<=1000]"
   ]
  },
  {
   "cell_type": "code",
   "execution_count": 12,
   "id": "e36df6d3",
   "metadata": {},
   "outputs": [
    {
     "data": {
      "text/plain": [
       "<AxesSubplot:xlabel='word_count', ylabel='Count'>"
      ]
     },
     "execution_count": 12,
     "metadata": {},
     "output_type": "execute_result"
    },
    {
     "data": {
      "image/png": "[encoded data removed]",
      "text/plain": [
       "<Figure size 432x288 with 1 Axes>"
      ]
     },
     "metadata": {
      "needs_background": "light"
     },
     "output_type": "display_data"
    }
   ],
   "source": [
    "sns.histplot(x='word_count', data=df)"
   ]
  },
  {
   "cell_type": "code",
   "execution_count": 13,
   "id": "9c68d889",
   "metadata": {},
   "outputs": [
    {
     "name": "stdout",
     "output_type": "stream",
     "text": [
      "8509\n"
     ]
    }
   ],
   "source": [
    "print(len(df))"
   ]
  },
  {
   "cell_type": "code",
   "execution_count": 14,
   "id": "d877bddc",
   "metadata": {},
   "outputs": [
    {
     "data": {
      "text/plain": [
       "29"
      ]
     },
     "execution_count": 14,
     "metadata": {},
     "output_type": "execute_result"
    }
   ],
   "source": [
    "len(df['article_topic'].unique())"
   ]
  },
  {
   "cell_type": "code",
   "execution_count": 15,
   "id": "0fc1d667",
   "metadata": {},
   "outputs": [
    {
     "name": "stdout",
     "output_type": "stream",
     "text": [
      "Ekonomi          1506\n",
      "Hiburan          1336\n",
      "Haji             1257\n",
      "Sepak Bola       1143\n",
      "Internasional     585\n",
      "Lifestyle         549\n",
      "Teknologi         506\n",
      "Sports            413\n",
      "Kesehatan         169\n",
      "Otomotif          149\n",
      "Health            117\n",
      "Bojonegoro        114\n",
      "Politik            83\n",
      "Personal           69\n",
      "Sejarah            66\n",
      "Hukum              65\n",
      "Pendidikan         57\n",
      "Obat-obatan        56\n",
      "Travel             53\n",
      "Horor              46\n",
      "MotoGP             34\n",
      "Regional           29\n",
      "KPK                25\n",
      "Pilgub Jatim       23\n",
      "Bisnis             21\n",
      "Keuangan           12\n",
      "Jakarta            11\n",
      "Sains               8\n",
      "K-Pop               7\n",
      "Name: article_topic, dtype: int64\n"
     ]
    },
    {
     "data": {
      "text/plain": [
       "<AxesSubplot:xlabel='count', ylabel='article_topic'>"
      ]
     },
     "execution_count": 15,
     "metadata": {},
     "output_type": "execute_result"
    },
    {
     "data": {
      "image/png": "[encoded data removed]",
      "text/plain": [
       "<Figure size 432x288 with 1 Axes>"
      ]
     },
     "metadata": {
      "needs_background": "light"
     },
     "output_type": "display_data"
    }
   ],
   "source": [
    "print(df['article_topic'].value_counts())\n",
    "sns.countplot(y='article_topic', data=df)"
   ]
  },
  {
   "cell_type": "markdown",
   "id": "40b2d6ee",
   "metadata": {},
   "source": [
    "setelah kita kita hilangkan artikel dengan jumlah kata kurang dari 303, jumlah data yang ada tinggal 4989 row dari 10000. dengan jumlah di masing-masing topik masih tidak berimbang"
   ]
  },
  {
   "cell_type": "markdown",
   "id": "fa723b3a",
   "metadata": {},
   "source": [
    "### Text Pre-Processing"
   ]
  },
  {
   "cell_type": "markdown",
   "id": "032d37ee",
   "metadata": {},
   "source": [
    "Pada proses ini setiap kata pada articel_content akan di buat lowercase dan dihilangkan karakter-karakter yang tidak diperlukan seperti tanda baca, karakter khusus, URL & tagar, spasi/tab di awal dan di akhir atau yang berlebihan"
   ]
  },
  {
   "cell_type": "code",
   "execution_count": 16,
   "id": "17f89e80",
   "metadata": {},
   "outputs": [
    {
     "name": "stderr",
     "output_type": "stream",
     "text": [
      "[nltk_data] Downloading package punkt to C:\\Users\\wildan aulia\n",
      "[nltk_data]     h\\AppData\\Roaming\\nltk_data...\n",
      "[nltk_data]   Package punkt is already up-to-date!\n",
      "[nltk_data] Downloading package stopwords to C:\\Users\\wildan aulia\n",
      "[nltk_data]     h\\AppData\\Roaming\\nltk_data...\n",
      "[nltk_data]   Package stopwords is already up-to-date!\n"
     ]
    }
   ],
   "source": [
    "#convert to lowercase, strip and remove punctuations\n",
    "import re, string\n",
    "import nltk\n",
    "from nltk.tokenize import sent_tokenize, word_tokenize\n",
    "from nltk.corpus import stopwords\n",
    "\n",
    "nltk.download('punkt')\n",
    "nltk.download('stopwords')\n",
    "\n",
    "def preprocess(text):\n",
    "    text = text.lower() #lowering text\n",
    "    text = text.strip() # remove white space\n",
    "    text = re.compile('[%s]' % re.escape(string.punctuation)).sub(' ', text) #string punctuations : ‘!”#$%&'()*+,-./:;?@[\\]^_`{|}~’\n",
    "    text = re.sub(r'\\d+',' ',text) #remove number\n",
    "    return text\n",
    "\n",
    "def stopword(string):\n",
    "    a= [i for i in string.split() if i not in stopwords.words('indonesian')]\n",
    "    return ' '.join(a)\n",
    "\n",
    "def finalpreprocess(string):\n",
    "    return stopword(preprocess(string))\n"
   ]
  },
  {
   "cell_type": "code",
   "execution_count": 17,
   "id": "1dbaed58",
   "metadata": {
    "scrolled": true
   },
   "outputs": [
    {
     "name": "stderr",
     "output_type": "stream",
     "text": [
      "<ipython-input-17-7f1f55dd9f68>:1: SettingWithCopyWarning: \n",
      "A value is trying to be set on a copy of a slice from a DataFrame.\n",
      "Try using .loc[row_indexer,col_indexer] = value instead\n",
      "\n",
      "See the caveats in the documentation: https://pandas.pydata.org/pandas-docs/stable/user_guide/indexing.html#returning-a-view-versus-a-copy\n",
      "  df['lower_text'] = df['article_content'].apply(lambda x: preprocess(x))\n"
     ]
    },
    {
     "data": {
      "text/html": [
       "<div>\n",
       "<style scoped>\n",
       "    .dataframe tbody tr th:only-of-type {\n",
       "        vertical-align: middle;\n",
       "    }\n",
       "\n",
       "    .dataframe tbody tr th {\n",
       "        vertical-align: top;\n",
       "    }\n",
       "\n",
       "    .dataframe thead th {\n",
       "        text-align: right;\n",
       "    }\n",
       "</style>\n",
       "<table border=\"1\" class=\"dataframe\">\n",
       "  <thead>\n",
       "    <tr style=\"text-align: right;\">\n",
       "      <th></th>\n",
       "      <th>article_id</th>\n",
       "      <th>article_topic</th>\n",
       "      <th>article_content</th>\n",
       "      <th>word_count</th>\n",
       "      <th>lower_text</th>\n",
       "    </tr>\n",
       "  </thead>\n",
       "  <tbody>\n",
       "    <tr>\n",
       "      <th>1</th>\n",
       "      <td>93186698</td>\n",
       "      <td>Ekonomi</td>\n",
       "      <td>Seluruh layanan transaksi di jalan tol akan m...</td>\n",
       "      <td>373</td>\n",
       "      <td>seluruh layanan transaksi di jalan tol akan mu...</td>\n",
       "    </tr>\n",
       "    <tr>\n",
       "      <th>3</th>\n",
       "      <td>93219292</td>\n",
       "      <td>Ekonomi</td>\n",
       "      <td>Saat ini Indonesia hanya memiliki cadangan ba...</td>\n",
       "      <td>352</td>\n",
       "      <td>saat ini indonesia hanya memiliki cadangan bah...</td>\n",
       "    </tr>\n",
       "    <tr>\n",
       "      <th>4</th>\n",
       "      <td>343106</td>\n",
       "      <td>Hiburan</td>\n",
       "      <td>Hari ini, Selasa (1/8), pedangdut Ridho Rhoma...</td>\n",
       "      <td>281</td>\n",
       "      <td>hari ini  selasa        pedangdut ridho rhoma ...</td>\n",
       "    </tr>\n",
       "    <tr>\n",
       "      <th>5</th>\n",
       "      <td>93196239</td>\n",
       "      <td>Haji</td>\n",
       "      <td>MEKKAH (MCH) - Walaupun diimbau agar tidak me...</td>\n",
       "      <td>338</td>\n",
       "      <td>mekkah  mch    walaupun diimbau agar tidak mel...</td>\n",
       "    </tr>\n",
       "    <tr>\n",
       "      <th>6</th>\n",
       "      <td>93207180</td>\n",
       "      <td>Travel</td>\n",
       "      <td>Api Biru atau Blue Fire menjadi daya tarik ut...</td>\n",
       "      <td>567</td>\n",
       "      <td>api biru atau blue fire menjadi daya tarik uta...</td>\n",
       "    </tr>\n",
       "  </tbody>\n",
       "</table>\n",
       "</div>"
      ],
      "text/plain": [
       "   article_id article_topic  \\\n",
       "1    93186698       Ekonomi   \n",
       "3    93219292       Ekonomi   \n",
       "4      343106       Hiburan   \n",
       "5    93196239          Haji   \n",
       "6    93207180        Travel   \n",
       "\n",
       "                                     article_content  word_count  \\\n",
       "1   Seluruh layanan transaksi di jalan tol akan m...         373   \n",
       "3   Saat ini Indonesia hanya memiliki cadangan ba...         352   \n",
       "4   Hari ini, Selasa (1/8), pedangdut Ridho Rhoma...         281   \n",
       "5   MEKKAH (MCH) - Walaupun diimbau agar tidak me...         338   \n",
       "6   Api Biru atau Blue Fire menjadi daya tarik ut...         567   \n",
       "\n",
       "                                          lower_text  \n",
       "1  seluruh layanan transaksi di jalan tol akan mu...  \n",
       "3  saat ini indonesia hanya memiliki cadangan bah...  \n",
       "4  hari ini  selasa        pedangdut ridho rhoma ...  \n",
       "5  mekkah  mch    walaupun diimbau agar tidak mel...  \n",
       "6  api biru atau blue fire menjadi daya tarik uta...  "
      ]
     },
     "execution_count": 17,
     "metadata": {},
     "output_type": "execute_result"
    }
   ],
   "source": [
    "df['lower_text'] = df['article_content'].apply(lambda x: preprocess(x))\n",
    "# df['clean_text'] = df['lower_text'].apply(lambda x: stopword(x))\n",
    "df.head()"
   ]
  },
  {
   "cell_type": "code",
   "execution_count": 18,
   "id": "232312e7",
   "metadata": {},
   "outputs": [
    {
     "data": {
      "text/html": [
       "<div>\n",
       "<style scoped>\n",
       "    .dataframe tbody tr th:only-of-type {\n",
       "        vertical-align: middle;\n",
       "    }\n",
       "\n",
       "    .dataframe tbody tr th {\n",
       "        vertical-align: top;\n",
       "    }\n",
       "\n",
       "    .dataframe thead th {\n",
       "        text-align: right;\n",
       "    }\n",
       "</style>\n",
       "<table border=\"1\" class=\"dataframe\">\n",
       "  <thead>\n",
       "    <tr style=\"text-align: right;\">\n",
       "      <th></th>\n",
       "      <th>article_id</th>\n",
       "      <th>article_topic</th>\n",
       "      <th>article_content</th>\n",
       "      <th>word_count</th>\n",
       "      <th>lower_text</th>\n",
       "    </tr>\n",
       "  </thead>\n",
       "  <tbody>\n",
       "    <tr>\n",
       "      <th>1</th>\n",
       "      <td>93186698</td>\n",
       "      <td>Ekonomi</td>\n",
       "      <td>Seluruh layanan transaksi di jalan tol akan m...</td>\n",
       "      <td>373</td>\n",
       "      <td>seluruh layanan transaksi di jalan tol akan mu...</td>\n",
       "    </tr>\n",
       "    <tr>\n",
       "      <th>3</th>\n",
       "      <td>93219292</td>\n",
       "      <td>Ekonomi</td>\n",
       "      <td>Saat ini Indonesia hanya memiliki cadangan ba...</td>\n",
       "      <td>352</td>\n",
       "      <td>saat ini indonesia hanya memiliki cadangan bah...</td>\n",
       "    </tr>\n",
       "    <tr>\n",
       "      <th>4</th>\n",
       "      <td>343106</td>\n",
       "      <td>Hiburan</td>\n",
       "      <td>Hari ini, Selasa (1/8), pedangdut Ridho Rhoma...</td>\n",
       "      <td>281</td>\n",
       "      <td>hari ini  selasa        pedangdut ridho rhoma ...</td>\n",
       "    </tr>\n",
       "    <tr>\n",
       "      <th>5</th>\n",
       "      <td>93196239</td>\n",
       "      <td>Haji</td>\n",
       "      <td>MEKKAH (MCH) - Walaupun diimbau agar tidak me...</td>\n",
       "      <td>338</td>\n",
       "      <td>mekkah  mch    walaupun diimbau agar tidak mel...</td>\n",
       "    </tr>\n",
       "    <tr>\n",
       "      <th>6</th>\n",
       "      <td>93207180</td>\n",
       "      <td>Travel</td>\n",
       "      <td>Api Biru atau Blue Fire menjadi daya tarik ut...</td>\n",
       "      <td>567</td>\n",
       "      <td>api biru atau blue fire menjadi daya tarik uta...</td>\n",
       "    </tr>\n",
       "    <tr>\n",
       "      <th>...</th>\n",
       "      <td>...</td>\n",
       "      <td>...</td>\n",
       "      <td>...</td>\n",
       "      <td>...</td>\n",
       "      <td>...</td>\n",
       "    </tr>\n",
       "    <tr>\n",
       "      <th>9994</th>\n",
       "      <td>173127</td>\n",
       "      <td>Politik</td>\n",
       "      <td>Presiden Joko Widodo ingin pengelolaan tabung...</td>\n",
       "      <td>246</td>\n",
       "      <td>presiden joko widodo ingin pengelolaan tabunga...</td>\n",
       "    </tr>\n",
       "    <tr>\n",
       "      <th>9996</th>\n",
       "      <td>93203115</td>\n",
       "      <td>Ekonomi</td>\n",
       "      <td>Pada akhir tahun ini, Direktur Jenderal (Dirj...</td>\n",
       "      <td>327</td>\n",
       "      <td>pada akhir tahun ini  direktur jenderal  dirje...</td>\n",
       "    </tr>\n",
       "    <tr>\n",
       "      <th>9997</th>\n",
       "      <td>93230854</td>\n",
       "      <td>Sepak Bola</td>\n",
       "      <td>Ketika pertama kali datang ke Barcelona pada ...</td>\n",
       "      <td>373</td>\n",
       "      <td>ketika pertama kali datang ke barcelona pada  ...</td>\n",
       "    </tr>\n",
       "    <tr>\n",
       "      <th>9998</th>\n",
       "      <td>93199312</td>\n",
       "      <td>Sepak Bola</td>\n",
       "      <td>Tim Nasional (Timnas) Indonesia U-19 berhasil...</td>\n",
       "      <td>325</td>\n",
       "      <td>tim nasional  timnas  indonesia u   berhasil m...</td>\n",
       "    </tr>\n",
       "    <tr>\n",
       "      <th>9999</th>\n",
       "      <td>93194682</td>\n",
       "      <td>Teknologi</td>\n",
       "      <td>Telkom masih melakukan proses perbaikan dan p...</td>\n",
       "      <td>375</td>\n",
       "      <td>telkom masih melakukan proses perbaikan dan pe...</td>\n",
       "    </tr>\n",
       "  </tbody>\n",
       "</table>\n",
       "<p>8509 rows × 5 columns</p>\n",
       "</div>"
      ],
      "text/plain": [
       "      article_id article_topic  \\\n",
       "1       93186698       Ekonomi   \n",
       "3       93219292       Ekonomi   \n",
       "4         343106       Hiburan   \n",
       "5       93196239          Haji   \n",
       "6       93207180        Travel   \n",
       "...          ...           ...   \n",
       "9994      173127       Politik   \n",
       "9996    93203115       Ekonomi   \n",
       "9997    93230854    Sepak Bola   \n",
       "9998    93199312    Sepak Bola   \n",
       "9999    93194682     Teknologi   \n",
       "\n",
       "                                        article_content  word_count  \\\n",
       "1      Seluruh layanan transaksi di jalan tol akan m...         373   \n",
       "3      Saat ini Indonesia hanya memiliki cadangan ba...         352   \n",
       "4      Hari ini, Selasa (1/8), pedangdut Ridho Rhoma...         281   \n",
       "5      MEKKAH (MCH) - Walaupun diimbau agar tidak me...         338   \n",
       "6      Api Biru atau Blue Fire menjadi daya tarik ut...         567   \n",
       "...                                                 ...         ...   \n",
       "9994   Presiden Joko Widodo ingin pengelolaan tabung...         246   \n",
       "9996   Pada akhir tahun ini, Direktur Jenderal (Dirj...         327   \n",
       "9997   Ketika pertama kali datang ke Barcelona pada ...         373   \n",
       "9998   Tim Nasional (Timnas) Indonesia U-19 berhasil...         325   \n",
       "9999   Telkom masih melakukan proses perbaikan dan p...         375   \n",
       "\n",
       "                                             lower_text  \n",
       "1     seluruh layanan transaksi di jalan tol akan mu...  \n",
       "3     saat ini indonesia hanya memiliki cadangan bah...  \n",
       "4     hari ini  selasa        pedangdut ridho rhoma ...  \n",
       "5     mekkah  mch    walaupun diimbau agar tidak mel...  \n",
       "6     api biru atau blue fire menjadi daya tarik uta...  \n",
       "...                                                 ...  \n",
       "9994  presiden joko widodo ingin pengelolaan tabunga...  \n",
       "9996  pada akhir tahun ini  direktur jenderal  dirje...  \n",
       "9997  ketika pertama kali datang ke barcelona pada  ...  \n",
       "9998  tim nasional  timnas  indonesia u   berhasil m...  \n",
       "9999  telkom masih melakukan proses perbaikan dan pe...  \n",
       "\n",
       "[8509 rows x 5 columns]"
      ]
     },
     "execution_count": 18,
     "metadata": {},
     "output_type": "execute_result"
    }
   ],
   "source": [
    "df"
   ]
  },
  {
   "cell_type": "markdown",
   "id": "26c8a8c6",
   "metadata": {},
   "source": [
    "### Feature Extraction"
   ]
  },
  {
   "cell_type": "markdown",
   "id": "2ed57a48",
   "metadata": {},
   "source": [
    "Untuk melakukan modeling daata yang berupa text harus diubah dalam bentuk vector, salah satu metode untuk mengubah text ke vector yaitu menggunakan Term Frequency - Inverse Documents Frequency"
   ]
  },
  {
   "cell_type": "code",
   "execution_count": 19,
   "id": "cf4148c1",
   "metadata": {},
   "outputs": [],
   "source": [
    "from sklearn.feature_extraction.text import TfidfVectorizer"
   ]
  },
  {
   "cell_type": "code",
   "execution_count": 20,
   "id": "a28494d9",
   "metadata": {},
   "outputs": [],
   "source": [
    "vect = TfidfVectorizer(max_df=0.8, min_df=0.001,use_idf=True)"
   ]
  },
  {
   "cell_type": "code",
   "execution_count": 21,
   "id": "634f542c",
   "metadata": {},
   "outputs": [],
   "source": [
    "tfidf = vect.fit_transform(df['lower_text'])"
   ]
  },
  {
   "cell_type": "code",
   "execution_count": 22,
   "id": "2d891e31",
   "metadata": {},
   "outputs": [],
   "source": [
    "X_train = tfidf\n",
    "y_train = df['article_topic'].values"
   ]
  },
  {
   "cell_type": "markdown",
   "id": "2eb2cc74",
   "metadata": {},
   "source": [
    "### Modeling dan evaluation"
   ]
  },
  {
   "cell_type": "markdown",
   "id": "aec93b6b",
   "metadata": {},
   "source": [
    "Untuk modeling akan dilakukan dengan beberapa metode modeling dan akan dipilih satu dengan nilai evaluasi yang paling tinggi. Evaluasi dilakukan menggunakan Stratified Cross validation dengan split sebanyak 10 dan menggunakan metrics F1-Score. Metric F1-Score dipilih karena data yang digunakan dalam pelatihan memiliki proporsi kelas yang imbalance sehingga diharapkan dapat merepresentasikan performa model yang sebenarnya. Untuk Model yang akan digunakan yaitu Logistic Regression, Naive Bayes, dan Support Vector Machine. Ketiga model ini adalah model yang sering digunakan untuk klasifikasi data berupa text. Model Logistic Regression digunakan sebagai baseline"
   ]
  },
  {
   "cell_type": "code",
   "execution_count": 23,
   "id": "152f7eb0",
   "metadata": {},
   "outputs": [],
   "source": [
    "from sklearn.model_selection import cross_val_score, StratifiedKFold\n",
    "from sklearn.linear_model import LogisticRegression\n",
    "from sklearn.naive_bayes import MultinomialNB"
   ]
  },
  {
   "cell_type": "code",
   "execution_count": 24,
   "id": "f4f7a72e",
   "metadata": {},
   "outputs": [],
   "source": [
    "def scorer(model, X, y, n_splits=10):\n",
    "    cv = StratifiedKFold(n_splits=n_splits, random_state=seed,shuffle=True)\n",
    "    cv_score = cross_val_score(model, X_train, y_train, cv=cv, scoring=\"f1_micro\")\n",
    "    return np.mean(cv_score)"
   ]
  },
  {
   "cell_type": "code",
   "execution_count": 25,
   "id": "28c694cb",
   "metadata": {},
   "outputs": [],
   "source": [
    "from sklearn.linear_model import LogisticRegression"
   ]
  },
  {
   "cell_type": "code",
   "execution_count": 26,
   "id": "b118bdc6",
   "metadata": {},
   "outputs": [],
   "source": [
    "model = LogisticRegression(random_state=seed)"
   ]
  },
  {
   "cell_type": "code",
   "execution_count": 27,
   "id": "0a5e54a3",
   "metadata": {},
   "outputs": [
    {
     "name": "stderr",
     "output_type": "stream",
     "text": [
      "C:\\Users\\wildan aulia h\\anaconda3\\lib\\site-packages\\sklearn\\model_selection\\_split.py:666: UserWarning: The least populated class in y has only 7 members, which is less than n_splits=10.\n",
      "  warnings.warn((\"The least populated class in y has only %d\"\n",
      "C:\\Users\\wildan aulia h\\anaconda3\\lib\\site-packages\\sklearn\\linear_model\\_logistic.py:763: ConvergenceWarning: lbfgs failed to converge (status=1):\n",
      "STOP: TOTAL NO. of ITERATIONS REACHED LIMIT.\n",
      "\n",
      "Increase the number of iterations (max_iter) or scale the data as shown in:\n",
      "    https://scikit-learn.org/stable/modules/preprocessing.html\n",
      "Please also refer to the documentation for alternative solver options:\n",
      "    https://scikit-learn.org/stable/modules/linear_model.html#logistic-regression\n",
      "  n_iter_i = _check_optimize_result(\n",
      "C:\\Users\\wildan aulia h\\anaconda3\\lib\\site-packages\\sklearn\\linear_model\\_logistic.py:763: ConvergenceWarning: lbfgs failed to converge (status=1):\n",
      "STOP: TOTAL NO. of ITERATIONS REACHED LIMIT.\n",
      "\n",
      "Increase the number of iterations (max_iter) or scale the data as shown in:\n",
      "    https://scikit-learn.org/stable/modules/preprocessing.html\n",
      "Please also refer to the documentation for alternative solver options:\n",
      "    https://scikit-learn.org/stable/modules/linear_model.html#logistic-regression\n",
      "  n_iter_i = _check_optimize_result(\n",
      "C:\\Users\\wildan aulia h\\anaconda3\\lib\\site-packages\\sklearn\\linear_model\\_logistic.py:763: ConvergenceWarning: lbfgs failed to converge (status=1):\n",
      "STOP: TOTAL NO. of ITERATIONS REACHED LIMIT.\n",
      "\n",
      "Increase the number of iterations (max_iter) or scale the data as shown in:\n",
      "    https://scikit-learn.org/stable/modules/preprocessing.html\n",
      "Please also refer to the documentation for alternative solver options:\n",
      "    https://scikit-learn.org/stable/modules/linear_model.html#logistic-regression\n",
      "  n_iter_i = _check_optimize_result(\n",
      "C:\\Users\\wildan aulia h\\anaconda3\\lib\\site-packages\\sklearn\\linear_model\\_logistic.py:763: ConvergenceWarning: lbfgs failed to converge (status=1):\n",
      "STOP: TOTAL NO. of ITERATIONS REACHED LIMIT.\n",
      "\n",
      "Increase the number of iterations (max_iter) or scale the data as shown in:\n",
      "    https://scikit-learn.org/stable/modules/preprocessing.html\n",
      "Please also refer to the documentation for alternative solver options:\n",
      "    https://scikit-learn.org/stable/modules/linear_model.html#logistic-regression\n",
      "  n_iter_i = _check_optimize_result(\n",
      "C:\\Users\\wildan aulia h\\anaconda3\\lib\\site-packages\\sklearn\\linear_model\\_logistic.py:763: ConvergenceWarning: lbfgs failed to converge (status=1):\n",
      "STOP: TOTAL NO. of ITERATIONS REACHED LIMIT.\n",
      "\n",
      "Increase the number of iterations (max_iter) or scale the data as shown in:\n",
      "    https://scikit-learn.org/stable/modules/preprocessing.html\n",
      "Please also refer to the documentation for alternative solver options:\n",
      "    https://scikit-learn.org/stable/modules/linear_model.html#logistic-regression\n",
      "  n_iter_i = _check_optimize_result(\n",
      "C:\\Users\\wildan aulia h\\anaconda3\\lib\\site-packages\\sklearn\\linear_model\\_logistic.py:763: ConvergenceWarning: lbfgs failed to converge (status=1):\n",
      "STOP: TOTAL NO. of ITERATIONS REACHED LIMIT.\n",
      "\n",
      "Increase the number of iterations (max_iter) or scale the data as shown in:\n",
      "    https://scikit-learn.org/stable/modules/preprocessing.html\n",
      "Please also refer to the documentation for alternative solver options:\n",
      "    https://scikit-learn.org/stable/modules/linear_model.html#logistic-regression\n",
      "  n_iter_i = _check_optimize_result(\n",
      "C:\\Users\\wildan aulia h\\anaconda3\\lib\\site-packages\\sklearn\\linear_model\\_logistic.py:763: ConvergenceWarning: lbfgs failed to converge (status=1):\n",
      "STOP: TOTAL NO. of ITERATIONS REACHED LIMIT.\n",
      "\n",
      "Increase the number of iterations (max_iter) or scale the data as shown in:\n",
      "    https://scikit-learn.org/stable/modules/preprocessing.html\n",
      "Please also refer to the documentation for alternative solver options:\n",
      "    https://scikit-learn.org/stable/modules/linear_model.html#logistic-regression\n",
      "  n_iter_i = _check_optimize_result(\n",
      "C:\\Users\\wildan aulia h\\anaconda3\\lib\\site-packages\\sklearn\\linear_model\\_logistic.py:763: ConvergenceWarning: lbfgs failed to converge (status=1):\n",
      "STOP: TOTAL NO. of ITERATIONS REACHED LIMIT.\n",
      "\n",
      "Increase the number of iterations (max_iter) or scale the data as shown in:\n",
      "    https://scikit-learn.org/stable/modules/preprocessing.html\n",
      "Please also refer to the documentation for alternative solver options:\n",
      "    https://scikit-learn.org/stable/modules/linear_model.html#logistic-regression\n",
      "  n_iter_i = _check_optimize_result(\n",
      "C:\\Users\\wildan aulia h\\anaconda3\\lib\\site-packages\\sklearn\\linear_model\\_logistic.py:763: ConvergenceWarning: lbfgs failed to converge (status=1):\n",
      "STOP: TOTAL NO. of ITERATIONS REACHED LIMIT.\n",
      "\n",
      "Increase the number of iterations (max_iter) or scale the data as shown in:\n",
      "    https://scikit-learn.org/stable/modules/preprocessing.html\n",
      "Please also refer to the documentation for alternative solver options:\n",
      "    https://scikit-learn.org/stable/modules/linear_model.html#logistic-regression\n",
      "  n_iter_i = _check_optimize_result(\n",
      "C:\\Users\\wildan aulia h\\anaconda3\\lib\\site-packages\\sklearn\\linear_model\\_logistic.py:763: ConvergenceWarning: lbfgs failed to converge (status=1):\n",
      "STOP: TOTAL NO. of ITERATIONS REACHED LIMIT.\n",
      "\n",
      "Increase the number of iterations (max_iter) or scale the data as shown in:\n",
      "    https://scikit-learn.org/stable/modules/preprocessing.html\n",
      "Please also refer to the documentation for alternative solver options:\n",
      "    https://scikit-learn.org/stable/modules/linear_model.html#logistic-regression\n",
      "  n_iter_i = _check_optimize_result(\n"
     ]
    }
   ],
   "source": [
    "score = scorer(model, X_train, y_train)"
   ]
  },
  {
   "cell_type": "code",
   "execution_count": 28,
   "id": "6c45479f",
   "metadata": {},
   "outputs": [
    {
     "data": {
      "text/plain": [
       "0.8567394760489391"
      ]
     },
     "execution_count": 28,
     "metadata": {},
     "output_type": "execute_result"
    }
   ],
   "source": [
    "score"
   ]
  },
  {
   "cell_type": "code",
   "execution_count": 29,
   "id": "4d1f3fce",
   "metadata": {},
   "outputs": [],
   "source": [
    "from sklearn.naive_bayes import MultinomialNB"
   ]
  },
  {
   "cell_type": "code",
   "execution_count": 30,
   "id": "7755b95e",
   "metadata": {},
   "outputs": [
    {
     "name": "stderr",
     "output_type": "stream",
     "text": [
      "C:\\Users\\wildan aulia h\\anaconda3\\lib\\site-packages\\sklearn\\model_selection\\_split.py:666: UserWarning: The least populated class in y has only 7 members, which is less than n_splits=10.\n",
      "  warnings.warn((\"The least populated class in y has only %d\"\n"
     ]
    }
   ],
   "source": [
    "nb = MultinomialNB(alpha=0.01)\n",
    "nb_score = scorer(nb, X_train, y_train)"
   ]
  },
  {
   "cell_type": "code",
   "execution_count": 31,
   "id": "34578e06",
   "metadata": {},
   "outputs": [
    {
     "data": {
      "text/plain": [
       "0.8847097532314925"
      ]
     },
     "execution_count": 31,
     "metadata": {},
     "output_type": "execute_result"
    }
   ],
   "source": [
    "nb_score"
   ]
  },
  {
   "cell_type": "code",
   "execution_count": 32,
   "id": "72df2de2",
   "metadata": {},
   "outputs": [],
   "source": [
    "from sklearn.svm import LinearSVC"
   ]
  },
  {
   "cell_type": "code",
   "execution_count": 33,
   "id": "3d2bea49",
   "metadata": {},
   "outputs": [
    {
     "name": "stderr",
     "output_type": "stream",
     "text": [
      "C:\\Users\\wildan aulia h\\anaconda3\\lib\\site-packages\\sklearn\\model_selection\\_split.py:666: UserWarning: The least populated class in y has only 7 members, which is less than n_splits=10.\n",
      "  warnings.warn((\"The least populated class in y has only %d\"\n"
     ]
    }
   ],
   "source": [
    "lsvc = LinearSVC(random_state=seed, C=2)\n",
    "lsvc_score = scorer(lsvc, X_train, y_train)"
   ]
  },
  {
   "cell_type": "code",
   "execution_count": 34,
   "id": "babfb2c8",
   "metadata": {},
   "outputs": [
    {
     "data": {
      "text/plain": [
       "0.8969312227828852"
      ]
     },
     "execution_count": 34,
     "metadata": {},
     "output_type": "execute_result"
    }
   ],
   "source": [
    "lsvc_score"
   ]
  },
  {
   "cell_type": "markdown",
   "id": "11f1ab3f",
   "metadata": {},
   "source": [
    "Didapatkan hasil bahwa pada pengujian di atas, model SVM memiliki performa terbaik dengan nilai F1-Score sebesar 0.8969"
   ]
  },
  {
   "cell_type": "markdown",
   "id": "4f5dd1af",
   "metadata": {},
   "source": [
    "### Future Works\n",
    "1. Mencoba algoritma machine learning yang lain (contoh: XgBoost, Ensemble models) dan deep learning (contoh : CNN, LSTM)\n",
    "2. Handle imbalance data dengan Resampling \n",
    "3. Praproses data untuk yang saya gunakan saat ini hanya mengubah kata-kata menjadi lower, dapat ditingkatkan untuk menggunakan stopwords removal dan Stemming\n",
    "4. Ubah representasi text (vector space model) sebagai contoh : Word2Vec, Glove, dll\n",
    "5. Tuning hyperparameter pada vectorizer dan model machine learning"
   ]
  }
 ],
 "metadata": {
  "kernelspec": {
   "display_name": "Python 3",
   "language": "python",
   "name": "python3"
  },
  "language_info": {
   "codemirror_mode": {
    "name": "ipython",
    "version": 3
   },
   "file_extension": ".py",
   "mimetype": "text/x-python",
   "name": "python",
   "nbconvert_exporter": "python",
   "pygments_lexer": "ipython3",
   "version": "3.8.8"
  }
 },
 "nbformat": 4,
 "nbformat_minor": 5
}
